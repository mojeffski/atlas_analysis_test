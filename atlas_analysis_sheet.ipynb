{
 "cells": [
  {
   "cell_type": "markdown",
   "id": "0c1db250-e51c-4e15-95bd-e2eeda1ce7d8",
   "metadata": {},
   "source": [
    "## Analysis File: Atlas Network - 2023"
   ]
  },
  {
   "cell_type": "markdown",
   "id": "70fc16da-6ab4-4133-9946-dfda9bf85082",
   "metadata": {},
   "source": [
    "### Table of Content**\n",
    "1. Loading 4 google-sheets\n",
    "2. Combining sheets\n",
    "3. Checking for missing values\n",
    "4. Analysis"
   ]
  },
  {
   "cell_type": "markdown",
   "id": "e0a668e9-a589-4e86-af55-179b4a1ab46b",
   "metadata": {},
   "source": [
    "**importing libraries**"
   ]
  },
  {
   "cell_type": "code",
   "execution_count": 1,
   "id": "c79abe4e-5ff3-414b-b70b-e026211e4d5d",
   "metadata": {
    "tags": []
   },
   "outputs": [],
   "source": [
    "import pandas as pd\n",
    "import numpy as np\n",
    "import networkx as nx\n",
    "import dtale\n",
    "from collections import Counter"
   ]
  },
  {
   "cell_type": "code",
   "execution_count": 5,
   "id": "41c6e95a-ed00-44bc-bbab-e12d8c27b4ea",
   "metadata": {
    "tags": []
   },
   "outputs": [],
   "source": [
    "import watermark"
   ]
  },
  {
   "cell_type": "code",
   "execution_count": 6,
   "id": "d22dffff-e496-4740-9722-408e6b375d5e",
   "metadata": {
    "tags": []
   },
   "outputs": [
    {
     "name": "stderr",
     "output_type": "stream",
     "text": [
      "UsageError: Line magic function `%watermark` not found.\n"
     ]
    }
   ],
   "source": [
    "%load_ext watermark\n",
    "%watermark -v -m -p wget,pandas,numpy,networkx,dtale,collections,watermark"
   ]
  },
  {
   "cell_type": "markdown",
   "id": "036dfce6-526f-456c-a887-7c6be8f4fa1f",
   "metadata": {},
   "source": [
    "## 1. Loading 4 google-sheets"
   ]
  },
  {
   "cell_type": "code",
   "execution_count": 3,
   "id": "7f2b9f25-bddb-4e3a-a28c-1c7f133a734b",
   "metadata": {
    "tags": []
   },
   "outputs": [],
   "source": [
    "google_path = \"https://docs.google.com/spreadsheets/d/\"\n",
    "excel_export = \"/export?format=xlsx\""
   ]
  },
  {
   "cell_type": "markdown",
   "id": "dacbd651-1849-48eb-85f8-c1706e83c9e3",
   "metadata": {},
   "source": [
    "### google-sheet-codes:"
   ]
  },
  {
   "cell_type": "code",
   "execution_count": 8,
   "id": "0b390c9c-6bd9-4ace-94df-55a2dc6ab09f",
   "metadata": {
    "tags": []
   },
   "outputs": [],
   "source": [
    "#ATLAS_CONTENT_FINAL_2023\n",
    "atlas_all_content = \"1ga9sBiBQPPRRxoyLnp13ywzLDPA0g3TmuTloDv_Pgw0\"\n",
    "\n",
    "#atlas_think_tank_founding_dates\n",
    "atlas_founding_dates = \"1rgx5XO2B_TeWsEdDDD-OJtbynEKR0Nb41mRZ-fBcu_g\"\n",
    "\n",
    "#cleaned_atlas_project\n",
    "atlas_network_files = \"1zIrHwGjn_VGvZRYzYC9Lt-hPHup_Dz9JuqVeL7uXFsE\"\n",
    "\n",
    "atlas_main_employer = \"131mPB129qhutrQaiPAc48zt7IpBhfjSB\"\n",
    "\n",
    "denial_petitions = \"1hlCSW1ZzdPmuwfhQ_Wo_f-ZTVEfz0kHv\"\n",
    "\n",
    "mises = \"1oq2joQuBviOOQMXHkezcoG5dAEG9xjbOc5zNuDnixxk\"\n",
    "\n",
    "mises_authors = \"1oq2joQuBviOOQMXHkezcoG5dAEG9xjbOc5zNuDnixxk\""
   ]
  },
  {
   "cell_type": "code",
   "execution_count": 10,
   "id": "e3b28b58-402c-43a1-9a65-ef6f431a8803",
   "metadata": {
    "tags": []
   },
   "outputs": [],
   "source": [
    "# The dictionary contains the codes to load the individual google-sheets \n",
    "# and specifies the particular tabs that shall be importat\n",
    "\n",
    "\n",
    "ALL_dfs = {'l_atlas_all_content_analysis' : [[atlas_all_content],['EUROPE_FULL','NORTH_AMERICA',\n",
    "                            'AFRICA_MENA_FULL','OCEANIA_FULL',\n",
    "                            'LATIN_AMERICA_FULL'   \n",
    "                           ]],\n",
    "           'l_atlas_founding_dates' : [[atlas_founding_dates],['africa_mena','latin_america',\n",
    "                         'western_europe','southern_europe',\n",
    "                         'eastern_central_europe','nordic_exsoviet',\n",
    "                         'uk_ireland','north_america',\n",
    "                         'oceania_asia'\n",
    "                            ]],\n",
    "           'l_network_files' : [[atlas_network_files],['africa_mena','eastern_central_europe',\n",
    "                 'latin_america','nordic_exsoviet',\n",
    "                 'north_america','oceania_asia',\n",
    "                 'uk_ireland','southern_europe',\n",
    "                 'western_europe'\n",
    "                            ]],\n",
    "           'main_employer' : [[atlas_main_employer],['main_employer_info_170723']],\n",
    "           'denial_petitions' : [[denial_petitions],['All_petition_signatures'   \n",
    "                           ]],\n",
    "           'mises' :[[mises],[\"Mises_all_individuals\"]],\n",
    "           'mises_authors' :[[mises_authors],[\"edges_mises\"]]\n",
    "            }"
   ]
  },
  {
   "cell_type": "code",
   "execution_count": 11,
   "id": "8b78dc99-966a-46b9-8668-f57cacc70fbe",
   "metadata": {
    "tags": []
   },
   "outputs": [],
   "source": [
    "ALL_dfs_dict = {\n",
    "    'l_atlas_all_content_analysis' : {},\n",
    "    'l_atlas_founding_dates' : {},\n",
    "    'l_network_files' : {},\n",
    "    'main_employer' : {},\n",
    "    'denial_petitions':{},\n",
    "    'mises':{},\n",
    "    'mises_authors':{}\n",
    "}\n",
    "\n",
    "continents = {'eastern_central_europe':'europe',\n",
    "'southern_europe':'europe',\n",
    "'western_europe':'europe',\n",
    "'nordic_exsoviet':'europe',\n",
    "'uk_ireland':'europe',\n",
    "'north_america':'north_america',\n",
    "'latin_america':'latin_america',\n",
    "'oceania_asia':'oceania_asia'\n",
    "}"
   ]
  },
  {
   "cell_type": "markdown",
   "id": "590652b2-4f54-4003-a7e2-983890b8fcfe",
   "metadata": {},
   "source": [
    "### 1.2.  import google sheets as individual dataframes"
   ]
  },
  {
   "cell_type": "code",
   "execution_count": 13,
   "id": "0cad1d43-45d9-4c11-9cb4-c340f15cba1d",
   "metadata": {
    "collapsed": true,
    "jupyter": {
     "outputs_hidden": true
    },
    "tags": []
   },
   "outputs": [
    {
     "name": "stdout",
     "output_type": "stream",
     "text": [
      "NEXT SHEET: l_atlas_all_content_analysis\n",
      "EUROPE_FULL :  Nr. of rows: 2281\n",
      "NORTH_AMERICA :  Nr. of rows: 12807\n",
      "AFRICA_MENA_FULL :  Nr. of rows: 533\n",
      "OCEANIA_FULL :  Nr. of rows: 1667\n",
      "LATIN_AMERICA_FULL :  Nr. of rows: 1120\n",
      "NEXT SHEET: l_atlas_founding_dates\n",
      "africa_mena :  Nr. of rows: 48\n",
      "latin_america :  Nr. of rows: 106\n",
      "western_europe :  Nr. of rows: 20\n",
      "southern_europe :  Nr. of rows: 25\n",
      "eastern_central_europe :  Nr. of rows: 29\n",
      "nordic_exsoviet :  Nr. of rows: 17\n",
      "uk_ireland :  Nr. of rows: 15\n",
      "north_america :  Nr. of rows: 251\n",
      "oceania_asia :  Nr. of rows: 47\n",
      "NEXT SHEET: l_network_files\n",
      "africa_mena :  Nr. of rows: 561\n",
      "eastern_central_europe :  Nr. of rows: 494\n",
      "latin_america :  Nr. of rows: 2771\n",
      "nordic_exsoviet :  Nr. of rows: 441\n",
      "north_america :  Nr. of rows: 14884\n",
      "oceania_asia :  Nr. of rows: 664\n",
      "uk_ireland :  Nr. of rows: 522\n",
      "southern_europe :  Nr. of rows: 683\n",
      "western_europe :  Nr. of rows: 510\n",
      "NEXT SHEET: main_employer\n",
      "main_employer_info_170723\n",
      "NEXT SHEET: denial_petitions\n",
      "All_petition_signatures\n",
      "NEXT SHEET: mises\n",
      "Mises_all_individuals\n",
      "NEXT SHEET: mises_authors\n",
      "edges_mises :  Nr. of rows: 280\n"
     ]
    }
   ],
   "source": [
    "for key,val in ALL_dfs.items():\n",
    "    xls = pd.ExcelFile(f\"{google_path}{val[0][0]}{excel_export}\")\n",
    "    #print(f\"{google_path}{val[0]}{excel_export}\")\n",
    "    print('NEXT SHEET:',key)\n",
    "    for sheet in val[1]:\n",
    "        file = pd.read_excel(xls,sheet,header=0)\n",
    "        file.name = sheet\n",
    "        if sheet == 'main_employer_info_170723' or sheet =='All_petition_signatures' or sheet =='Mises_all_individuals':\n",
    "            ALL_dfs_dict[key].update({file.name:file})\n",
    "            print(file.name)\n",
    "            \n",
    "        else:\n",
    "            file['REGION_SHEET'] = file.name\n",
    "            file['REGION_SHEET_BROAD'] = file['REGION_SHEET'].replace(continents)\n",
    "            print(file.name, ':  Nr. of rows:',len(file))\n",
    "            ALL_dfs_dict[key].update({file.name:file})"
   ]
  },
  {
   "cell_type": "code",
   "execution_count": 14,
   "id": "83714db8-7d4f-4f67-a2bd-92845d636fbe",
   "metadata": {
    "tags": []
   },
   "outputs": [
    {
     "name": "stdout",
     "output_type": "stream",
     "text": [
      "l_atlas_all_content_analysis\n",
      "l_atlas_founding_dates\n",
      "l_network_files\n",
      "main_employer\n",
      "denial_petitions\n",
      "mises\n",
      "mises_authors\n"
     ]
    }
   ],
   "source": [
    "for key,val in ALL_dfs_dict.items():\n",
    "    #print(key)\n",
    "    combined_df = pd.concat(ALL_dfs_dict[key].values(), ignore_index=True)\n",
    "    ALL_dfs_dict.update({key:combined_df})"
   ]
  },
  {
   "cell_type": "code",
   "execution_count": 17,
   "id": "87b4eed6-f43a-4309-9296-ebdfad60336f",
   "metadata": {
    "tags": []
   },
   "outputs": [],
   "source": [
    "#ALL_dfs_dict['l_atlas_all_content_analysis']"
   ]
  },
  {
   "cell_type": "markdown",
   "id": "833e92cc-0505-48aa-b3b2-70f291fd42da",
   "metadata": {},
   "source": [
    "## Overviews of missing values:"
   ]
  },
  {
   "cell_type": "code",
   "execution_count": 20,
   "id": "3c35b273-e6c4-4eaf-86e9-132f2c1bb396",
   "metadata": {
    "tags": []
   },
   "outputs": [],
   "source": [
    "# This concerns missing values in the content file:"
   ]
  },
  {
   "cell_type": "code",
   "execution_count": 23,
   "id": "0a9c27e1-2d12-4f22-b897-1dccada47656",
   "metadata": {
    "tags": []
   },
   "outputs": [],
   "source": [
    "content_sheet = ALL_dfs_dict['l_atlas_all_content_analysis']\n",
    "# Authors:\n",
    "df_empty_authors = content_sheet.authors.isnull().groupby(content_sheet['REGION_SHEET']).sum().astype(int).reset_index(name='empty_author_fields')\n",
    "# Years\n",
    "df_empty_years = content_sheet.year.isnull().groupby(content_sheet['REGION_SHEET']).sum().astype(int).reset_index(name='empty_years')\n",
    "# Hot-Topics\n",
    "df_empty_hot_topics = content_sheet.new_hot_topics.isnull().groupby(content_sheet['REGION_SHEET']).sum().astype(int).reset_index(name='empty_hot_topics')\n",
    "\n",
    "df_empty_thinktanks = content_sheet.thinktank.isnull().groupby(content_sheet['REGION_SHEET']).sum().astype(int).reset_index(name='empty_thinktanks')\n",
    "\n",
    "#Concat to one dataframe\n",
    "content_empty_overview = pd.concat([df_empty_authors.set_index('REGION_SHEET'),\n",
    "           df_empty_hot_topics.set_index('REGION_SHEET'),\n",
    "           df_empty_years.set_index('REGION_SHEET'),\n",
    "           df_empty_thinktanks.set_index('REGION_SHEET')\n",
    "                                   ]\n",
    "          ,axis=1)"
   ]
  },
  {
   "cell_type": "code",
   "execution_count": 25,
   "id": "03db0985-f2dc-4979-ae5d-0eab6b3a3f87",
   "metadata": {
    "tags": []
   },
   "outputs": [
    {
     "data": {
      "text/html": [
       "<div>\n",
       "<style scoped>\n",
       "    .dataframe tbody tr th:only-of-type {\n",
       "        vertical-align: middle;\n",
       "    }\n",
       "\n",
       "    .dataframe tbody tr th {\n",
       "        vertical-align: top;\n",
       "    }\n",
       "\n",
       "    .dataframe thead th {\n",
       "        text-align: right;\n",
       "    }\n",
       "</style>\n",
       "<table border=\"1\" class=\"dataframe\">\n",
       "  <thead>\n",
       "    <tr style=\"text-align: right;\">\n",
       "      <th></th>\n",
       "      <th>empty_author_fields</th>\n",
       "      <th>empty_hot_topics</th>\n",
       "      <th>empty_years</th>\n",
       "      <th>empty_thinktanks</th>\n",
       "    </tr>\n",
       "    <tr>\n",
       "      <th>REGION_SHEET</th>\n",
       "      <th></th>\n",
       "      <th></th>\n",
       "      <th></th>\n",
       "      <th></th>\n",
       "    </tr>\n",
       "  </thead>\n",
       "  <tbody>\n",
       "    <tr>\n",
       "      <th>AFRICA_MENA_FULL</th>\n",
       "      <td>47</td>\n",
       "      <td>0</td>\n",
       "      <td>1</td>\n",
       "      <td>0</td>\n",
       "    </tr>\n",
       "    <tr>\n",
       "      <th>EUROPE_FULL</th>\n",
       "      <td>150</td>\n",
       "      <td>87</td>\n",
       "      <td>258</td>\n",
       "      <td>1</td>\n",
       "    </tr>\n",
       "    <tr>\n",
       "      <th>LATIN_AMERICA_FULL</th>\n",
       "      <td>0</td>\n",
       "      <td>414</td>\n",
       "      <td>79</td>\n",
       "      <td>1</td>\n",
       "    </tr>\n",
       "    <tr>\n",
       "      <th>NORTH_AMERICA</th>\n",
       "      <td>2338</td>\n",
       "      <td>86</td>\n",
       "      <td>0</td>\n",
       "      <td>26</td>\n",
       "    </tr>\n",
       "    <tr>\n",
       "      <th>OCEANIA_FULL</th>\n",
       "      <td>181</td>\n",
       "      <td>32</td>\n",
       "      <td>39</td>\n",
       "      <td>0</td>\n",
       "    </tr>\n",
       "  </tbody>\n",
       "</table>\n",
       "</div>"
      ],
      "text/plain": [
       "                    empty_author_fields  empty_hot_topics  empty_years  \\\n",
       "REGION_SHEET                                                             \n",
       "AFRICA_MENA_FULL                     47                 0            1   \n",
       "EUROPE_FULL                         150                87          258   \n",
       "LATIN_AMERICA_FULL                    0               414           79   \n",
       "NORTH_AMERICA                      2338                86            0   \n",
       "OCEANIA_FULL                        181                32           39   \n",
       "\n",
       "                    empty_thinktanks  \n",
       "REGION_SHEET                          \n",
       "AFRICA_MENA_FULL                   0  \n",
       "EUROPE_FULL                        1  \n",
       "LATIN_AMERICA_FULL                 1  \n",
       "NORTH_AMERICA                     26  \n",
       "OCEANIA_FULL                       0  "
      ]
     },
     "execution_count": 25,
     "metadata": {},
     "output_type": "execute_result"
    }
   ],
   "source": [
    "content_empty_overview"
   ]
  },
  {
   "cell_type": "code",
   "execution_count": null,
   "id": "679a0c39-84cf-43bd-b33d-3832cc758f07",
   "metadata": {},
   "outputs": [],
   "source": []
  }
 ],
 "metadata": {
  "kernelspec": {
   "display_name": "Python 3 (ipykernel)",
   "language": "python",
   "name": "python3"
  },
  "language_info": {
   "codemirror_mode": {
    "name": "ipython",
    "version": 3
   },
   "file_extension": ".py",
   "mimetype": "text/x-python",
   "name": "python",
   "nbconvert_exporter": "python",
   "pygments_lexer": "ipython3",
   "version": "3.10.9"
  }
 },
 "nbformat": 4,
 "nbformat_minor": 5
}
